{
 "cells": [
  {
   "cell_type": "code",
   "execution_count": 1,
   "metadata": {
    "collapsed": true
   },
   "outputs": [],
   "source": [
    "from SPARQLWrapper import SPARQLWrapper, JSON\n",
    "import pprint\n",
    "import psycopg2\n",
    "import json\n",
    "import sqlalchemy\n",
    "import sys"
   ]
  },
  {
   "cell_type": "code",
   "execution_count": 9,
   "metadata": {
    "collapsed": true
   },
   "outputs": [],
   "source": [
    "class UpdateDatabase(object):\n",
    "    def __init__(self):\n",
    "\n",
    "        try:\n",
    "            self.conn = psycopg2.connect(\"dbname=CMOD user=timputman host='localhost'\")\n",
    "        except:\n",
    "            print(\"nope\")\n",
    "        self.cur = self.conn.cursor()\n",
    "\n",
    "\n",
    "    @staticmethod\n",
    "    def execute_query(query):\n",
    "        endpoint = SPARQLWrapper(endpoint=\"https://query.wikidata.org/sparql\")\n",
    "        wd = 'PREFIX wd: <http://www.wikidata.org/entity/>'\n",
    "        wdt = 'PREFIX wdt: <http://www.wikidata.org/prop/direct/>'\n",
    "        endpoint.setQuery(query)\n",
    "        endpoint.setReturnFormat(JSON)\n",
    "        wd_query = endpoint.query().convert()\n",
    "        return wd_query['results']['bindings']\n",
    "\n",
    "    def get_go_terms(self):\n",
    "        goquery = '''\n",
    "                        PREFIX wdt: <http://www.wikidata.org/prop/direct/>\n",
    "                        PREFIX wd: <http://www.wikidata.org/entity/>\n",
    "                        SELECT DISTINCT ?goTerm ?goTermLabel ?goID ?goclass ?goclassLabel WHERE {\n",
    "                        ?goTerm wdt:P686 ?goID;\n",
    "                                wdt:P279* ?goclass.\n",
    "                        SERVICE wikibase:label {\n",
    "                            bd:serviceParam wikibase:language \"en\".\n",
    "                        }\n",
    "                        FILTER ( ?goclass = wd:Q2996394 || ?goclass = wd:Q5058355 || ?goclass = wd:Q14860489)\n",
    "                        }\n",
    "                        '''\n",
    "        goresults = self.execute_query(goquery)\n",
    "        res = 0\n",
    "        for goterm in goresults:\n",
    "            qoTermQid = goterm['goTerm']['value'].split(\"/\")[-1]\n",
    "            print(qoTermQid)\n",
    "            goClassQid = goterm['goclass']['value'].split(\"/\")[-1]\n",
    "            print(goClassQid)\n",
    "            res += 1\n",
    "            if res < 10:\n",
    "                column_data = [goterm['goID']['value'], qoTermQid , goterm['goTermLabel']['value'],\n",
    "                                goClassQid, goterm['goclassLabel']['value']]\n",
    "                column_data = \"\".join(['\\'{}\\','.format(x) for x in column_data]).strip(\",\")\n",
    "                print(column_data)\n",
    "                insert_query = \"\"\"INSERT INTO goterms (id, goqid, golabel, coclassqid, goclasslabel) VALUES ({});\"\"\".format(column_data)\n",
    "                print(insert_query)\n",
    "                self.cur.execute(insert_query)\n",
    "                print('yup')\n",
    "            else:\n",
    "                sys.exit()\n",
    "\n",
    "    def querydb(self):\n",
    "        self.cur.execute(\"\"\"SELECT * from goterms;\"\"\")\n",
    "        rows = self.cur.fetchall()\n",
    "        return rows"
   ]
  },
  {
   "cell_type": "code",
   "execution_count": 10,
   "metadata": {
    "collapsed": true
   },
   "outputs": [],
   "source": [
    "ex = UpdateDatabase()"
   ]
  },
  {
   "cell_type": "code",
   "execution_count": 11,
   "metadata": {
    "collapsed": false
   },
   "outputs": [
    {
     "name": "stdout",
     "output_type": "stream",
     "text": [
      "Q412856\n",
      "Q5058355\n",
      "'GO:0045254','Q412856','pyruvate dehydrogenase complex','Q5058355','cellular component'\n",
      "INSERT INTO goterms (id, goqid, golabel, coclassqid, goclasslabel) VALUES ('GO:0045254','Q412856','pyruvate dehydrogenase complex','Q5058355','cellular component');\n",
      "yup\n",
      "Q14633871\n",
      "Q14860489\n",
      "'GO:0042562','Q14633871','hormone binding','Q14860489','molecular function'\n",
      "INSERT INTO goterms (id, goqid, golabel, coclassqid, goclasslabel) VALUES ('GO:0042562','Q14633871','hormone binding','Q14860489','molecular function');\n",
      "yup\n",
      "Q133895\n",
      "Q2996394\n",
      "'GO:0006099','Q133895','tricarboxylic acid cycle','Q2996394','biological process'\n",
      "INSERT INTO goterms (id, goqid, golabel, coclassqid, goclasslabel) VALUES ('GO:0006099','Q133895','tricarboxylic acid cycle','Q2996394','biological process');\n",
      "yup\n",
      "Q7671279\n",
      "Q5058355\n",
      "'GO:0030008','Q7671279','TRAPP complex','Q5058355','cellular component'\n",
      "INSERT INTO goterms (id, goqid, golabel, coclassqid, goclasslabel) VALUES ('GO:0030008','Q7671279','TRAPP complex','Q5058355','cellular component');\n",
      "yup\n",
      "Q232438\n",
      "Q5058355\n",
      "'GO:0005921','Q232438','gap junction','Q5058355','cellular component'\n",
      "INSERT INTO goterms (id, goqid, golabel, coclassqid, goclasslabel) VALUES ('GO:0005921','Q232438','gap junction','Q5058355','cellular component');\n",
      "yup\n",
      "Q767442\n",
      "Q5058355\n",
      "'GO:0097418','Q767442','neurofibrillary tangle','Q5058355','cellular component'\n",
      "INSERT INTO goterms (id, goqid, golabel, coclassqid, goclasslabel) VALUES ('GO:0097418','Q767442','neurofibrillary tangle','Q5058355','cellular component');\n",
      "yup\n",
      "Q187181\n",
      "Q5058355\n",
      "'GO:0045202','Q187181','synapse','Q5058355','cellular component'\n",
      "INSERT INTO goterms (id, goqid, golabel, coclassqid, goclasslabel) VALUES ('GO:0045202','Q187181','synapse','Q5058355','cellular component');\n",
      "yup\n",
      "Q559423\n",
      "Q5058355\n",
      "'GO:0030426','Q559423','growth cone','Q5058355','cellular component'\n",
      "INSERT INTO goterms (id, goqid, golabel, coclassqid, goclasslabel) VALUES ('GO:0030426','Q559423','growth cone','Q5058355','cellular component');\n",
      "yup\n",
      "Q908912\n",
      "Q5058355\n",
      "'GO:0000776','Q908912','kinetochore','Q5058355','cellular component'\n",
      "INSERT INTO goterms (id, goqid, golabel, coclassqid, goclasslabel) VALUES ('GO:0000776','Q908912','kinetochore','Q5058355','cellular component');\n",
      "yup\n",
      "Q14349455\n",
      "Q5058355\n"
     ]
    },
    {
     "ename": "SystemExit",
     "evalue": "",
     "output_type": "error",
     "traceback": [
      "An exception has occurred, use %tb to see the full traceback.\n",
      "\u001b[0;31mSystemExit\u001b[0m\n"
     ]
    },
    {
     "name": "stderr",
     "output_type": "stream",
     "text": [
      "To exit: use 'exit', 'quit', or Ctrl-D.\n"
     ]
    }
   ],
   "source": [
    "ex.get_go_terms()"
   ]
  },
  {
   "cell_type": "code",
   "execution_count": null,
   "metadata": {
    "collapsed": true
   },
   "outputs": [],
   "source": []
  }
 ],
 "metadata": {
  "kernelspec": {
   "display_name": "Python 3",
   "language": "python",
   "name": "python3"
  },
  "language_info": {
   "codemirror_mode": {
    "name": "ipython",
    "version": 3
   },
   "file_extension": ".py",
   "mimetype": "text/x-python",
   "name": "python",
   "nbconvert_exporter": "python",
   "pygments_lexer": "ipython3",
   "version": "3.5.1"
  }
 },
 "nbformat": 4,
 "nbformat_minor": 0
}
