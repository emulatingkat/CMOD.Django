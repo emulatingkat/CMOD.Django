{
 "cells": [
  {
   "cell_type": "code",
   "execution_count": 2,
   "metadata": {
    "collapsed": true
   },
   "outputs": [],
   "source": [
    "import urllib.request\n",
    "import gzip\n",
    "import pandas as pd\n",
    "import subprocess\n",
    "import os, os.path\n",
    "import glob\n",
    "import shutil\n",
    "import tempfile\n",
    "from SPARQLWrapper import SPARQLWrapper, JSON"
   ]
  },
  {
   "cell_type": "code",
   "execution_count": 4,
   "metadata": {
    "collapsed": true
   },
   "outputs": [],
   "source": [
    "def get_ref_ftp_path(taxid):\n",
    "    \"\"\"\n",
    "    using taxid, get the ftp file path from the assembly summary file on NCBI's ftp site and retrieve the genome\n",
    "    sequence to use as ref seq in jbrowse\n",
    "    :param taxid:\n",
    "    :return:\n",
    "    \"\"\"\n",
    "\n",
    "    assembly = urllib.request.urlretrieve(\"ftp://ftp.ncbi.nlm.nih.gov/genomes/refseq/fungi/Saccharomyces_cerevisiae/assembly_summary.txt\")\n",
    "    columns = ['assembly_accession', 'bioproject', 'biosample', 'wgs_master', 'refseq_category', 'taxid',\n",
    "               'species_taxid', 'organism_name', 'infraspecific_name', 'isolate', 'version_status',\n",
    "               'assembly_level',\n",
    "               'release_type', 'genome_rep', 'seq_rel_date', 'asm_name', 'submitter', 'gbrs_paired_asm',\n",
    "               'paired_asm_comp', 'ftp_path', 'excluded_from_refseq']\n",
    "\n",
    "    data = pd.read_csv(assembly[0], sep=\"\\t\", dtype=object, skiprows=2, names=columns)\n",
    "    # get row with taxid\n",
    "    selected = data[data['taxid'] == taxid]\n",
    "\n",
    "    ftp_path = selected.iloc[0]['ftp_path']\n",
    "    file_name = ftp_path.split('/')[-1]\n",
    "    url = ftp_path + '/' + file_name + '_genomic.fna.gz'\n",
    "    genome = urllib.request.urlretrieve(url)[0]\n",
    "    # return the genome fasta file as a tempfile\n",
    "    return genome"
   ]
  },
  {
   "cell_type": "code",
   "execution_count": 6,
   "metadata": {
    "collapsed": false
   },
   "outputs": [
    {
     "data": {
      "text/plain": [
       "'/var/folders/mp/mjhdzn1j0qd5kdhckmhr1zpw0000gn/T/tmpj1_umi1x'"
      ]
     },
     "execution_count": 6,
     "metadata": {},
     "output_type": "execute_result"
    }
   ],
   "source": [
    "get_ref_ftp_path('559292')"
   ]
  },
  {
   "cell_type": "code",
   "execution_count": null,
   "metadata": {
    "collapsed": true
   },
   "outputs": [],
   "source": []
  }
 ],
 "metadata": {
  "kernelspec": {
   "display_name": "Python 3",
   "language": "python",
   "name": "python3"
  },
  "language_info": {
   "codemirror_mode": {
    "name": "ipython",
    "version": 3
   },
   "file_extension": ".py",
   "mimetype": "text/x-python",
   "name": "python",
   "nbconvert_exporter": "python",
   "pygments_lexer": "ipython3",
   "version": "3.5.1"
  }
 },
 "nbformat": 4,
 "nbformat_minor": 0
}
